{
 "cells": [
  {
   "cell_type": "code",
   "execution_count": null,
   "id": "5b712259",
   "metadata": {},
   "outputs": [],
   "source": [
    "import numpy as np\n",
    "import matplotlib.pyplot as plt\n",
    "import torch\n",
    "from tqdm import tqdm\n",
    "from torchvision import datasets, transforms\n",
    "from torchview import draw_graph\n",
    "from sklearn.metrics import confusion_matrix, ConfusionMatrixDisplay\n",
    "\n",
    "from model import *"
   ]
  },
  {
   "cell_type": "code",
   "execution_count": null,
   "id": "b0c40145",
   "metadata": {
    "tags": [
     "title"
    ]
   },
   "outputs": [],
   "source": [
    "mps_device = None\n",
    "if torch.backends.mps.is_available():\n",
    "    mps_device = torch.device(\"mps\")\n",
    "    x = torch.ones(1, device=mps_device)\n",
    "    print('MPS GPU found!')\n",
    "else:\n",
    "    print (\"MPS device not found.\")"
   ]
  },
  {
   "cell_type": "code",
   "execution_count": null,
   "id": "4ecd625f",
   "metadata": {},
   "outputs": [],
   "source": [
    "lr = 0.005\n",
    "epochs = 20\n",
    "batch_size = 256\n",
    "train_perc = 0.8"
   ]
  },
  {
   "cell_type": "code",
   "execution_count": null,
   "id": "e174d240",
   "metadata": {},
   "outputs": [],
   "source": [
    "transform = transforms.Compose([transforms.Resize( (128, 128) ), \n",
    "                                transforms.RandomHorizontalFlip(), \n",
    "                                transforms.RandomRotation(20),\n",
    "                                transforms.ToTensor(), \n",
    "                                transforms.Normalize((0.5, 0.5, 0.5), (0.5, 0.5, 0.5))])\n",
    "dataset = datasets.ImageFolder('./dataset/train', transform=transform)\n",
    "train_set, test_set = torch.utils.data.random_split(dataset, [train_perc, 1-train_perc])\n",
    "loader_train = torch.utils.data.DataLoader(train_set, batch_size=batch_size, shuffle=True)\n",
    "loader_test = torch.utils.data.DataLoader(test_set, batch_size=batch_size, shuffle=False)"
   ]
  },
  {
   "cell_type": "code",
   "execution_count": null,
   "id": "d4001eed",
   "metadata": {},
   "outputs": [],
   "source": [
    "cnn = SimpleCNN()\n",
    "fn = nn.CrossEntropyLoss()\n",
    "optimizer = torch.optim.Adam(cnn.parameters(), lr=lr)"
   ]
  },
  {
   "cell_type": "code",
   "execution_count": null,
   "id": "76848557",
   "metadata": {},
   "outputs": [],
   "source": [
    "# Show model\n",
    "print(f'Number of parameters {cnn.parameters()}')\n",
    "model_graph = draw_graph(cnn, input_size=(1, 3, 128, 128), expand_nested=True)\n",
    "model_graph.visual_graph"
   ]
  },
  {
   "cell_type": "code",
   "execution_count": null,
   "id": "4272ae7a",
   "metadata": {},
   "outputs": [],
   "source": [
    "# Sending model to GPU if available\n",
    "if mps_device != None:\n",
    "    res = cnn.to(mps_device)\n",
    "\n",
    "loss_history = {'train': [], 'test': []}\n",
    "accuracy = []\n",
    "for epoch in range(1,epochs+1):\n",
    "    print(f\"------> Epoch {epoch}\")\n",
    "    loss_train = 0.0\n",
    "    loss_test = 0.0\n",
    "    n_correct = 0.0\n",
    "    n_examples = 0.0\n",
    "    \n",
    "    print('Train progress:')\n",
    "    cnn.train()\n",
    "    for i, data in enumerate(tqdm(loader_train)):\n",
    "        # Unpacking batches and labels\n",
    "        batch, labels = data\n",
    "        batch = batch.to(mps_device)\n",
    "        labels = labels.to(mps_device)\n",
    "\n",
    "        # Computing prediction and updating weights\n",
    "        optimizer.zero_grad()\n",
    "        pred = cnn(batch)\n",
    "        loss = fn(pred, labels)\n",
    "        loss.backward()\n",
    "        optimizer.step()\n",
    "\n",
    "        # Loss per epoch \n",
    "        loss_train += loss.cpu().detach().numpy()\n",
    "        \n",
    "    loss_history['train'].append(loss_train / len(loader_train))\n",
    "\n",
    "    # Computing loss on test set to check for optimal fitting\n",
    "    print('Test progress:')\n",
    "    with torch.no_grad():\n",
    "        cnn.eval()\n",
    "        for i, data in enumerate(tqdm(loader_test)):\n",
    "            batch, labels = data\n",
    "            batch = batch.to(mps_device)\n",
    "            labels = labels.to(mps_device)\n",
    "            pred = cnn(batch)\n",
    "            loss = fn(pred, labels)\n",
    "            loss_test += loss.cpu().detach().numpy()\n",
    "\n",
    "            # Computing accuracy on test set\n",
    "            correct = torch.eq( torch.max( F.softmax(pred, dim=1), dim=1 )[1], labels ).view(-1)\n",
    "            n_correct += torch.sum(correct).item()\n",
    "            n_examples += correct.shape[0]\n",
    "        \n",
    "        loss_history['test'].append(loss_test / len(loader_test))\n",
    "        accuracy.append(n_correct / n_examples)\n",
    "    print(f'Train loss = {loss_history['train'][-1]:.3f}')\n",
    "    print(f'Test loss = {loss_history['test'][-1]:.3f}, test accuracy {accuracy[-1]:.3f}')"
   ]
  },
  {
   "cell_type": "code",
   "execution_count": null,
   "id": "a5ceb175",
   "metadata": {},
   "outputs": [],
   "source": [
    "fig, ax = plt.subplots()\n",
    "ax.set_title('Losses')\n",
    "ax.plot(loss_history['train'], '-o', color='red', label='train loss')\n",
    "ax.plot(loss_history['test'], '-o', color='blue', label='test loss')\n",
    "ax.set_xlabel('Epoch')\n",
    "ax.set_ylabel('Loss')\n",
    "\n",
    "fig, ax = plt.subplots()\n",
    "ax.set_title('Accuracy')\n",
    "ax.plot(accuracy, '-o', color='orange')\n",
    "ax.set_xlabel('Epoch')\n",
    "ax.set_ylabel('Accuracy')"
   ]
  },
  {
   "cell_type": "code",
   "execution_count": null,
   "id": "1c080d12",
   "metadata": {},
   "outputs": [],
   "source": [
    "# Confusion matrix\n",
    "correct_labels = []\n",
    "predicted_labels = []\n",
    "with torch.no_grad():\n",
    "    for i, data in enumerate( tqdm(loader_test) ):\n",
    "        batch, true_labels = data\n",
    "        cnn.cpu()\n",
    "        cnn_out = cnn(batch)\n",
    "        pred_labels = torch.max( F.softmax(cnn_out, dim=1), 1)[1]\n",
    "        correct_labels.extend(true_labels)\n",
    "        predicted_labels.extend(pred_labels)"
   ]
  },
  {
   "cell_type": "code",
   "execution_count": null,
   "id": "a2e00691",
   "metadata": {},
   "outputs": [],
   "source": [
    "cm = confusion_matrix(correct_labels, predicted_labels)\n",
    "ConfusionMatrixDisplay(cm).plot()\n"
   ]
  }
 ],
 "metadata": {
  "kernelspec": {
   "display_name": "torch",
   "language": "python",
   "name": "python3"
  },
  "language_info": {
   "codemirror_mode": {
    "name": "ipython",
    "version": 3
   },
   "file_extension": ".py",
   "mimetype": "text/x-python",
   "name": "python",
   "nbconvert_exporter": "python",
   "pygments_lexer": "ipython3",
   "version": "3.13.2"
  }
 },
 "nbformat": 4,
 "nbformat_minor": 5
}
